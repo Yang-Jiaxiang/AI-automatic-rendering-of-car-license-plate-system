{
  "nbformat": 4,
  "nbformat_minor": 0,
  "metadata": {
    "colab": {
      "provenance": [],
      "authorship_tag": "ABX9TyO472f/Uh9y1uOgZ+rRLbco",
      "include_colab_link": true
    },
    "kernelspec": {
      "name": "python3",
      "display_name": "Python 3"
    },
    "language_info": {
      "name": "python"
    }
  },
  "cells": [
    {
      "cell_type": "markdown",
      "metadata": {
        "id": "view-in-github",
        "colab_type": "text"
      },
      "source": [
        "<a href=\"https://colab.research.google.com/github/Yang-Jiaxiang/AI-automatic-rendering-of-car-license-plate-system/blob/main/%E3%80%8C%E6%A5%8A%E5%98%89%E7%BF%94_hw_3_ipynb%E3%80%8D%E7%9A%84%E5%89%AF%E6%9C%AC.ipynb\" target=\"_parent\"><img src=\"https://colab.research.google.com/assets/colab-badge.svg\" alt=\"Open In Colab\"/></a>"
      ]
    },
    {
      "cell_type": "markdown",
      "source": [
        "# 宣告"
      ],
      "metadata": {
        "id": "hgcToO7VwxMP"
      }
    },
    {
      "cell_type": "code",
      "execution_count": 5,
      "metadata": {
        "id": "-d3uUZqQrHWv"
      },
      "outputs": [],
      "source": [
        "# 宣告 a_read 變數\n",
        "a_read = [\n",
        "    '@HWI-ST491:153:D0B6LACXX:3:1101:1209:2220 1:N:0:',\n",
        "    'TTG8TATC8TCCTGGGCTgggTTG1GGACCA1CCGGCagttGTCTGG',\n",
        "    '+',\n",
        "    'CCFFFFFFHHHHFGIJJJJJJCCJJCJCJJJJCJJJJJJJJJJJCJH']"
      ]
    },
    {
      "cell_type": "markdown",
      "source": [
        "# 第一題：How many occurrences for each base?"
      ],
      "metadata": {
        "id": "eAeW7QxTxYZJ"
      }
    },
    {
      "cell_type": "code",
      "source": [
        "# 取的基因定序值\n",
        "a_read_data = a_read[1]\n",
        "\n",
        "# 將基因定序值轉換為小寫形式\n",
        "a_read_data_upper = a_read_data.upper()\n",
        "\n",
        "base_count = {}\n",
        "the_bases = a_read_data_upper\n",
        "the_quals = a_read[3]\n",
        "\n",
        "for i in range(len(a_read[1])):\n",
        "  if(the_bases[i] in base_count):\n",
        "    base_count[the_bases[i]] += 1\n",
        "  else:\n",
        "    base_count[the_bases[i]] = 1\n",
        "\n",
        "# 使用氣泡排序對 base_count 中的鹼基按照出現次數遞增排序\n",
        "sorted_keys = list(base_count.keys())\n",
        "n = len(sorted_keys)\n",
        "for i in range(n):\n",
        "    for j in range(0, n-i-1):\n",
        "        if base_count[sorted_keys[j]] < base_count[sorted_keys[j+1]]:\n",
        "            sorted_keys[j], sorted_keys[j+1] = sorted_keys[j+1], sorted_keys[j]\n",
        "\n",
        "# 列印結果\n",
        "for key in sorted_keys:\n",
        "    print(key, \":\", base_count[key], end=\",\")\n",
        "print()"
      ],
      "metadata": {
        "colab": {
          "base_uri": "https://localhost:8080/"
        },
        "id": "04e3AIwdw_GI",
        "outputId": "bfb2220c-1fa3-4421-aba8-b1e597214d79"
      },
      "execution_count": 21,
      "outputs": [
        {
          "output_type": "stream",
          "name": "stdout",
          "text": [
            "G : 16,T : 13,C : 10,A : 4,\n"
          ]
        }
      ]
    },
    {
      "cell_type": "markdown",
      "source": [
        "# 第二題：Calculate the mean, max, min, and stdev of the quality scores"
      ],
      "metadata": {
        "id": "ay88TS0EDJLX"
      }
    },
    {
      "cell_type": "code",
      "source": [
        "# 移除不是 'T'、'G'、'A'、'C' 的值\n",
        "a_read[1] = ''.join(base for base in a_read[1] if base.upper() in ['T', 'G', 'A', 'C'])\n",
        "\n",
        "# 移除品質分數中與基因序列不對應的分數\n",
        "a_read[3] = a_read[3][:len(a_read[1])]\n",
        "\n",
        "# ASCII碼值\n",
        "the_quals_values = list(map(lambda x: ord(x),list(the_quals)))\n",
        "\n",
        "# 計算質量得分的總和、最大值和最小值\n",
        "total_score = sum(the_quals_values)\n",
        "max_score = max(the_quals_values)\n",
        "min_score = min(the_quals_values)\n",
        "\n",
        "# 計算質量得分的平均值\n",
        "average_score = total_score / len(the_quals_values)\n",
        "\n",
        "# 計算質量得分的標準差\n",
        "sum_squared_diff = sum((score - average_score) ** 2 for score in the_quals_values)\n",
        "std_deviation = (sum_squared_diff / len(the_quals_values)) ** 0.5\n",
        "\n",
        "# 列印結果\n",
        "print(\"mean:\", average_score)\n",
        "print(\"max:\", max_score)\n",
        "print(\"min:\", min_score)"
      ],
      "metadata": {
        "colab": {
          "base_uri": "https://localhost:8080/"
        },
        "id": "nTxWCR18DNxQ",
        "outputId": "29812ce7-b0f4-4ff1-dc94-eb82c8977f3c"
      },
      "execution_count": 20,
      "outputs": [
        {
          "output_type": "stream",
          "name": "stdout",
          "text": [
            "mean: 71.91489361702128\n",
            "max: 74\n",
            "min: 67\n"
          ]
        }
      ]
    },
    {
      "cell_type": "markdown",
      "source": [
        "# 第三題：Print out the positions and the bases that have the lowest quality scores"
      ],
      "metadata": {
        "id": "rV2DMq6DHKfA"
      }
    },
    {
      "cell_type": "code",
      "source": [
        "# 找到質量分數最低的位置（索引值）\n",
        "lowest_score_positions = [i for i, score in enumerate(the_quals_values) if score == min_score]\n",
        "\n",
        "print(lowest_score_positions)\n",
        "\n",
        "# 找到對應的鹼基\n",
        "lowest_score_base = the_bases[lowest_score_index]\n",
        "\n",
        "# 列印結果\n",
        "for pos in lowest_score_positions:\n",
        "    base = the_bases[pos]\n",
        "    print(\"Position:\", pos, \", Base:\", base)"
      ],
      "metadata": {
        "colab": {
          "base_uri": "https://localhost:8080/"
        },
        "id": "QhegwO2lHe8e",
        "outputId": "d1f02e55-2336-47ef-a47a-8d469aaae2bb"
      },
      "execution_count": 31,
      "outputs": [
        {
          "output_type": "stream",
          "name": "stdout",
          "text": [
            "[0, 1, 21, 22, 25, 27, 32]\n",
            "Position: 0 , Base: T\n",
            "Position: 1 , Base: T\n",
            "Position: 21 , Base: G\n",
            "Position: 22 , Base: G\n",
            "Position: 25 , Base: C\n",
            "Position: 27 , Base: A\n",
            "Position: 32 , Base: C\n"
          ]
        }
      ]
    },
    {
      "cell_type": "markdown",
      "source": [
        "# 第四題：Use PyLab to generate a bar chart (長條圖) to visualize the occurrences of different bases in this read\\"
      ],
      "metadata": {
        "id": "SGujj1aJMHCM"
      }
    },
    {
      "cell_type": "code",
      "source": [
        "import matplotlib.pyplot as plt\n",
        "\n",
        "# 生成長條圖\n",
        "plt.bar(sorted_keys, [base_count[key] for key in sorted_keys])\n",
        "plt.xlabel('Bases')\n",
        "plt.ylabel('Occurrences')\n",
        "plt.title('Occurrences of Different Bases in the Read')\n",
        "plt.show()"
      ],
      "metadata": {
        "colab": {
          "base_uri": "https://localhost:8080/",
          "height": 472
        },
        "id": "dx-EI8CCMM03",
        "outputId": "a4abbd9e-ac85-4731-ca3f-8ea135b23a0b"
      },
      "execution_count": 33,
      "outputs": [
        {
          "output_type": "display_data",
          "data": {
            "text/plain": [
              "<Figure size 640x480 with 1 Axes>"
            ],
            "image/png": "[encoded data removed]"
          },
          "metadata": {}
        }
      ]
    }
  ]
}